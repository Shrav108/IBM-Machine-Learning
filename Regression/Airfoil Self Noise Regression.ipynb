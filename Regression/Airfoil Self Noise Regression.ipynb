{
 "cells": [
  {
   "cell_type": "markdown",
   "id": "d207fd24",
   "metadata": {},
   "source": [
    "### Import Libraries"
   ]
  },
  {
   "cell_type": "code",
   "execution_count": 87,
   "id": "7ea20152",
   "metadata": {},
   "outputs": [],
   "source": [
    "import matplotlib.pyplot as plt  # Plotting Library\n",
    "import numpy as np               # Numpy Library\n",
    "import pandas as pd              # Dataframe Library\n",
    "from sklearn.linear_model import LinearRegression, Lasso, Ridge # Linear Regression \n",
    "from sklearn.metrics import r2_score  # R2 Score\n",
    "from scipy.stats.mstats import normaltest # Import normaltest\n",
    "from sklearn.model_selection import KFold, cross_val_predict         # KFold, cross_val_predict\n",
    "from sklearn.model_selection import train_test_split # Train Test Split\n",
    "from scipy.stats import boxcox # Box Cox\n",
    "from sklearn.preprocessing import PowerTransformer # Power Transform\n",
    "from sklearn.pipeline import Pipeline   # Pipeine\n",
    "from sklearn.preprocessing import StandardScaler, PolynomialFeatures # StandardScaler and PolynomialFeatures"
   ]
  },
  {
   "cell_type": "markdown",
   "id": "5cb6d994",
   "metadata": {},
   "source": [
    "### Data"
   ]
  },
  {
   "cell_type": "code",
   "execution_count": 2,
   "id": "48b13956",
   "metadata": {},
   "outputs": [
    {
     "data": {
      "text/html": [
       "<div>\n",
       "<style scoped>\n",
       "    .dataframe tbody tr th:only-of-type {\n",
       "        vertical-align: middle;\n",
       "    }\n",
       "\n",
       "    .dataframe tbody tr th {\n",
       "        vertical-align: top;\n",
       "    }\n",
       "\n",
       "    .dataframe thead th {\n",
       "        text-align: right;\n",
       "    }\n",
       "</style>\n",
       "<table border=\"1\" class=\"dataframe\">\n",
       "  <thead>\n",
       "    <tr style=\"text-align: right;\">\n",
       "      <th></th>\n",
       "      <th>f</th>\n",
       "      <th>alpha</th>\n",
       "      <th>c</th>\n",
       "      <th>U_infinity</th>\n",
       "      <th>delta</th>\n",
       "      <th>SSPL</th>\n",
       "    </tr>\n",
       "  </thead>\n",
       "  <tbody>\n",
       "    <tr>\n",
       "      <th>0</th>\n",
       "      <td>800</td>\n",
       "      <td>0.0</td>\n",
       "      <td>0.3048</td>\n",
       "      <td>71.3</td>\n",
       "      <td>0.002663</td>\n",
       "      <td>126.201</td>\n",
       "    </tr>\n",
       "    <tr>\n",
       "      <th>1</th>\n",
       "      <td>1000</td>\n",
       "      <td>0.0</td>\n",
       "      <td>0.3048</td>\n",
       "      <td>71.3</td>\n",
       "      <td>0.002663</td>\n",
       "      <td>125.201</td>\n",
       "    </tr>\n",
       "    <tr>\n",
       "      <th>2</th>\n",
       "      <td>1250</td>\n",
       "      <td>0.0</td>\n",
       "      <td>0.3048</td>\n",
       "      <td>71.3</td>\n",
       "      <td>0.002663</td>\n",
       "      <td>125.951</td>\n",
       "    </tr>\n",
       "    <tr>\n",
       "      <th>3</th>\n",
       "      <td>1600</td>\n",
       "      <td>0.0</td>\n",
       "      <td>0.3048</td>\n",
       "      <td>71.3</td>\n",
       "      <td>0.002663</td>\n",
       "      <td>127.591</td>\n",
       "    </tr>\n",
       "    <tr>\n",
       "      <th>4</th>\n",
       "      <td>2000</td>\n",
       "      <td>0.0</td>\n",
       "      <td>0.3048</td>\n",
       "      <td>71.3</td>\n",
       "      <td>0.002663</td>\n",
       "      <td>127.461</td>\n",
       "    </tr>\n",
       "  </tbody>\n",
       "</table>\n",
       "</div>"
      ],
      "text/plain": [
       "      f  alpha       c  U_infinity     delta     SSPL\n",
       "0   800    0.0  0.3048        71.3  0.002663  126.201\n",
       "1  1000    0.0  0.3048        71.3  0.002663  125.201\n",
       "2  1250    0.0  0.3048        71.3  0.002663  125.951\n",
       "3  1600    0.0  0.3048        71.3  0.002663  127.591\n",
       "4  2000    0.0  0.3048        71.3  0.002663  127.461"
      ]
     },
     "execution_count": 2,
     "metadata": {},
     "output_type": "execute_result"
    }
   ],
   "source": [
    "df = pd.read_csv('AirfoilSelfNoise.csv') # Read CSV\n",
    "df.head() # Peek"
   ]
  },
  {
   "cell_type": "markdown",
   "id": "30fb3538",
   "metadata": {},
   "source": [
    "#### Data Description"
   ]
  },
  {
   "cell_type": "markdown",
   "id": "e1b81b40",
   "metadata": {},
   "source": [
    "    Input features:\n",
    "\n",
    "        f: Frequency in Hertzs [Hz].\n",
    "        alpha: Angle of attack (AoA, α), in degrees [°].\n",
    "        c: Chord length, in meters [m].\n",
    "        U_infinity: Free-stream velocity, in meters per second [m/s].\n",
    "        delta: Suction side displacement thickness (𝛿), in meters [m].\n",
    "\n",
    "    Output:\n",
    "\n",
    "        SSPL: Scaled sound pressure level, in decibels [dB]"
   ]
  },
  {
   "cell_type": "markdown",
   "id": "0469f4e8",
   "metadata": {},
   "source": [
    "### Data Exploration"
   ]
  },
  {
   "cell_type": "markdown",
   "id": "8f9f8104",
   "metadata": {},
   "source": [
    "    Determine Normality\n",
    "\n",
    "    1. If the target variable is Normally distributed, it obtains better results.\n",
    "\n",
    "    2. If our target is not normally distributed, we can apply a transformation to it and then fit \n",
    "       our regression to predict the transformed values.\n",
    "\n",
    "    3. To see if target values are normally distributed, check:\n",
    "        a. Visualy\n",
    "        b. Statistically"
   ]
  },
  {
   "cell_type": "markdown",
   "id": "bd03a06c",
   "metadata": {},
   "source": [
    "#### Hypothesis\n",
    "\n",
    "    Null Hypothesis: The target values are normally distributed.\n",
    "    Alternate Hypothesis: The target values are not normally distributed."
   ]
  },
  {
   "cell_type": "markdown",
   "id": "5bf219aa",
   "metadata": {},
   "source": [
    "#### Visual Test: Plot Histogram of target"
   ]
  },
  {
   "cell_type": "code",
   "execution_count": 4,
   "id": "63bc706b",
   "metadata": {},
   "outputs": [
    {
     "data": {
      "image/png": "[encoded data removed]",
      "text/plain": [
       "<Figure size 504x360 with 1 Axes>"
      ]
     },
     "metadata": {
      "needs_background": "light"
     },
     "output_type": "display_data"
    }
   ],
   "source": [
    "plt.figure(figsize=(7,5)) # Figure\n",
    "plt.hist(df['SSPL'], bins = 50)  # Histogram\n",
    "plt.grid(True) # Grid\n",
    "plt.title('Histogram of SSPL Distribution', fontdict={'fontsize':18, 'fontweight':'semibold'}) # Title\n",
    "plt.xlabel('SSPL', fontdict={'fontsize':14, 'fontweight':'semibold'}) # X-Label\n",
    "plt.ylabel('Density', fontdict={'fontsize':14, 'fontweight':'semibold'}) # Y-Label\n",
    "plt.show() # Show"
   ]
  },
  {
   "cell_type": "markdown",
   "id": "3ed56ad7",
   "metadata": {},
   "source": [
    "##### The histogram is not normally distributed. We have to transform it."
   ]
  },
  {
   "cell_type": "markdown",
   "id": "ca4634a7",
   "metadata": {},
   "source": [
    "#### Statistic Test: Check with p-value"
   ]
  },
  {
   "cell_type": "code",
   "execution_count": 6,
   "id": "9436e496",
   "metadata": {},
   "outputs": [
    {
     "data": {
      "text/plain": [
       "NormaltestResult(statistic=49.45069509012877, pvalue=1.8277550732540224e-11)"
      ]
     },
     "execution_count": 6,
     "metadata": {},
     "output_type": "execute_result"
    }
   ],
   "source": [
    "normaltest(df['SSPL']) # Normal Test"
   ]
  },
  {
   "cell_type": "markdown",
   "id": "b3c2d23d",
   "metadata": {},
   "source": [
    "    Note: Statisticians say if p > 0.05, then the dataset is normally distributed. Here, since p-value \n",
    "      is less than 0.05, it is not normally distributed, so we reject the Null Hypothesis."
   ]
  },
  {
   "cell_type": "markdown",
   "id": "69af6be1",
   "metadata": {},
   "source": [
    "#### Transformation\n",
    "\n",
    "    1. Linear Regression assumes a normal distributed residuals. So, we have to transform the target \n",
    "       variables.\n",
    "    2. Some transformation which can make a non-normally distributed to a normally distributed are:\n",
    "       a. Log Transformation\n",
    "       b. Square Root Transformation\n",
    "       c. Box-Cox Transformation\n",
    "       d. Inverse Transformation\n",
    "       e. Yeo-Johnson Transformation"
   ]
  },
  {
   "cell_type": "markdown",
   "id": "e9965806",
   "metadata": {},
   "source": [
    "#### Transformation"
   ]
  },
  {
   "cell_type": "code",
   "execution_count": 69,
   "id": "5d9c1703",
   "metadata": {},
   "outputs": [],
   "source": [
    "log_y = np.log10(df['SSPL']) # Log Transformation\n",
    "sqrt_y = np.sqrt(df['SSPL'])  # Square Root Transformation\n",
    "box_y = boxcox(df['SSPL']) # Box Cox Transformation\n",
    "inv_y = np.array(1/df['SSPL']) # Inverse Transformation"
   ]
  },
  {
   "cell_type": "code",
   "execution_count": 70,
   "id": "70ff9dea",
   "metadata": {},
   "outputs": [
    {
     "name": "stdout",
     "output_type": "stream",
     "text": [
      "Log Transformation p-value: NormaltestResult(statistic=67.99079399949862, pvalue=1.721815737185587e-15)\n",
      "*******************************************************\n",
      "SquareRoot Transformation p-val: NormaltestResult(statistic=57.35720201056755, pvalue=3.5078566279140157e-13)\n",
      "*******************************************************\n",
      "Box Cox Transformation p-value: NormaltestResult(statistic=35.67116789274296, pvalue=1.7951647448346226e-08)\n",
      "*******************************************************\n",
      "Inverse Transformation p-value: NormaltestResult(statistic=97.97788318234974, pvalue=5.301185393463406e-22)\n"
     ]
    }
   ],
   "source": [
    "print('Log Transformation p-value:', normaltest(log_y))\n",
    "print('*******************************************************')\n",
    "print('SquareRoot Transformation p-val:', normaltest(sqrt_y))\n",
    "print('*******************************************************')\n",
    "print('Box Cox Transformation p-value:', normaltest(box_y[0]))\n",
    "print('*******************************************************')\n",
    "print('Inverse Transformation p-value:', normaltest(inv_y))"
   ]
  },
  {
   "cell_type": "code",
   "execution_count": 71,
   "id": "e944b13d",
   "metadata": {},
   "outputs": [
    {
     "data": {
      "image/png": "[encoded data removed]",
      "text/plain": [
       "<Figure size 504x360 with 1 Axes>"
      ]
     },
     "metadata": {
      "needs_background": "light"
     },
     "output_type": "display_data"
    }
   ],
   "source": [
    "plt.figure(figsize=(7,5)) # Figure\n",
    "plt.hist(log_y, bins = 50)  # Histogram\n",
    "plt.grid(True) # Grid\n",
    "plt.title('Histogram of SSPL Distribution-Log Transformation', fontdict={'fontsize':18, 'fontweight':'semibold'}) # Title\n",
    "plt.xlabel('LOG SSPL', fontdict={'fontsize':14, 'fontweight':'semibold'}) # X-Label\n",
    "plt.ylabel('Density', fontdict={'fontsize':14, 'fontweight':'semibold'}) # Y-Label\n",
    "plt.show() # Show"
   ]
  },
  {
   "cell_type": "code",
   "execution_count": 72,
   "id": "8bfdc3ee",
   "metadata": {},
   "outputs": [
    {
     "data": {
      "image/png": "[encoded data removed]",
      "text/plain": [
       "<Figure size 504x360 with 1 Axes>"
      ]
     },
     "metadata": {
      "needs_background": "light"
     },
     "output_type": "display_data"
    }
   ],
   "source": [
    "plt.figure(figsize=(7,5)) # Figure\n",
    "plt.hist(sqrt_y, bins = 50)  # Histogram\n",
    "plt.grid(True) # Grid\n",
    "plt.title('Histogram of SSPL Distribution-Square Root Transformation', fontdict={'fontsize':18, 'fontweight':'semibold'}) # Title\n",
    "plt.xlabel('SQRT SSPL', fontdict={'fontsize':14, 'fontweight':'semibold'}) # X-Label\n",
    "plt.ylabel('Density', fontdict={'fontsize':14, 'fontweight':'semibold'}) # Y-Label\n",
    "plt.show() # Show"
   ]
  },
  {
   "cell_type": "markdown",
   "id": "98c4cbf1",
   "metadata": {},
   "source": [
    "#### Let us try Yeo-Johnson Transformation"
   ]
  },
  {
   "cell_type": "code",
   "execution_count": 73,
   "id": "da6e49f9",
   "metadata": {},
   "outputs": [],
   "source": [
    "scaler = StandardScaler() # Normalizer\n",
    "yj_y = scaler.fit_transform(df[['SSPL']]) # Normalize"
   ]
  },
  {
   "cell_type": "code",
   "execution_count": 74,
   "id": "f1e45cbe",
   "metadata": {},
   "outputs": [],
   "source": [
    "pt = PowerTransformer(method='yeo-johnson') # Yeo-Johnson Transfromation\n",
    "yj_y = pt.fit_transform(dat) # Transform"
   ]
  },
  {
   "cell_type": "code",
   "execution_count": 75,
   "id": "4daf8107",
   "metadata": {},
   "outputs": [
    {
     "data": {
      "text/plain": [
       "NormaltestResult(statistic=masked_array(data=[31.256482077076225],\n",
       "             mask=[False],\n",
       "       fill_value=1e+20), pvalue=array([1.63207892e-07]))"
      ]
     },
     "execution_count": 75,
     "metadata": {},
     "output_type": "execute_result"
    }
   ],
   "source": [
    "normaltest(yj_y) # Chek P-vlaue"
   ]
  },
  {
   "cell_type": "code",
   "execution_count": 76,
   "id": "d7e78e98",
   "metadata": {},
   "outputs": [
    {
     "data": {
      "image/png": "[encoded data removed]",
      "text/plain": [
       "<Figure size 504x360 with 1 Axes>"
      ]
     },
     "metadata": {
      "needs_background": "light"
     },
     "output_type": "display_data"
    }
   ],
   "source": [
    "plt.figure(figsize=(7,5)) # Figure\n",
    "plt.hist(yj_y, bins = 50)  # Histogram\n",
    "plt.grid(True) # Grid\n",
    "plt.title('Histogram of SSPL Distribution-Yeo-Johnson Transformation', fontdict={'fontsize':18, 'fontweight':'semibold'}) # Title\n",
    "plt.xlabel('SQRT SSPL', fontdict={'fontsize':14, 'fontweight':'semibold'}) # X-Label\n",
    "plt.ylabel('Density', fontdict={'fontsize':14, 'fontweight':'semibold'}) # Y-Label\n",
    "plt.show() # Show"
   ]
  },
  {
   "cell_type": "markdown",
   "id": "c4e62bd5",
   "metadata": {},
   "source": [
    "### Note:\n",
    "    1. With the implementation all the transformation, the p-value is not increasing above 0.05. \n",
    "       The best transformation is the Yeo-Johnson Transformation with the least p-value.\n",
    "        \n",
    "    2. Since we did not get a p-value above 0.05, we do not transform the data."
   ]
  },
  {
   "cell_type": "markdown",
   "id": "909ca4b2",
   "metadata": {},
   "source": [
    "### Features and Labels"
   ]
  },
  {
   "cell_type": "code",
   "execution_count": 82,
   "id": "8440ca09",
   "metadata": {},
   "outputs": [],
   "source": [
    "x = df.drop(labels='SSPL', axis=1) # Features\n",
    "y = df['SSPL'] # Labels"
   ]
  },
  {
   "cell_type": "markdown",
   "id": "1f5a308a",
   "metadata": {},
   "source": [
    "### Cross-Validation"
   ]
  },
  {
   "cell_type": "code",
   "execution_count": 81,
   "id": "c5d0af11",
   "metadata": {},
   "outputs": [],
   "source": [
    "kf = KFold(shuffle=True, random_state=72012, n_splits = 3)"
   ]
  },
  {
   "cell_type": "markdown",
   "id": "19e2dc1f",
   "metadata": {},
   "source": [
    "### Model 1: Multiple Linear Regression with Cross Validation"
   ]
  },
  {
   "cell_type": "code",
   "execution_count": 83,
   "id": "e46cd4e8",
   "metadata": {},
   "outputs": [
    {
     "name": "stdout",
     "output_type": "stream",
     "text": [
      "[0.4917699689574735, 0.47539556673158445, 0.5428883250702099]\n"
     ]
    }
   ],
   "source": [
    "scores = []\n",
    "lr = LinearRegression() # linear Regression\n",
    "s = StandardScaler() # Standard Scaler\n",
    "for train_index, test_index in kf.split(x):\n",
    "    x_train, x_test, y_train, y_test = (x.iloc[train_index, :], x.iloc[test_index, :], y[train_index], y[test_index]) # Test Train Split\n",
    "    \n",
    "    x_train = s.fit_transform(x_train) # Standardize Train set\n",
    "    lr.fit(x_train, y_train) # Fit Model\n",
    "    x_test = s.transform(x_test) # Standardize test set\n",
    "    y_pred = lr.predict(x_test) # Predict\n",
    "    score = r2_score(y_test.values, y_pred) # R2 Score\n",
    "    scores.append(score) # Append List\n",
    "    \n",
    "print(scores) # See Scores"
   ]
  },
  {
   "cell_type": "markdown",
   "id": "69e35d62",
   "metadata": {},
   "source": [
    "### Model 2: Lasso Regression"
   ]
  },
  {
   "cell_type": "code",
   "execution_count": 96,
   "id": "3a206849",
   "metadata": {},
   "outputs": [
    {
     "name": "stdout",
     "output_type": "stream",
     "text": [
      "[0.6170217154073374, 0.6170217163454399, 0.6170217257275548, 0.6170218195035495, 0.6170227563746231, 0.6170320097065503, 0.6171128919576407, 0.6175151445179615, 0.6170725876850602, 0.37601334457639823]\n"
     ]
    }
   ],
   "source": [
    "alphas = np.geomspace(1e-9, 1e0, num=10) # Alphas\n",
    "pf = PolynomialFeatures(degree=2) #  Polynomial Features\n",
    "scores = [] # List\n",
    "coef = [] # List\n",
    "s = StandardScaler() # Standard Scaler\n",
    "for alpha in alphas:\n",
    "    las = Lasso(alpha=alpha, max_iter = 10000) # Lasso Regression\n",
    "    estimator = Pipeline([('scaler', s),(\"polynomial_features\", pf), ('lasso_regr', las)]) # Pipeline\n",
    "    predictions = cross_val_predict(estimator, x, y, cv=kf)  # Cross Val Predict\n",
    "    score = r2_score(y, predictions) # R2 Score\n",
    "    scores.append(score) # Append\n",
    "print(scores) # Print"
   ]
  },
  {
   "cell_type": "code",
   "execution_count": 89,
   "id": "6f6c9e9a",
   "metadata": {},
   "outputs": [
    {
     "data": {
      "image/png": "[encoded data removed]",
      "text/plain": [
       "<Figure size 360x288 with 1 Axes>"
      ]
     },
     "metadata": {
      "needs_background": "light"
     },
     "output_type": "display_data"
    }
   ],
   "source": [
    "plt.figure(figsize=(5,4)) # Figure\n",
    "plt.semilogx(alphas, scores, '-ro')  # Semilog Plot\n",
    "plt.xlabel('$\\\\alpha$') # Xlabel\n",
    "plt.ylabel('$R^2$') # Ylabel\n",
    "plt.grid(True)\n",
    "plt.show()"
   ]
  },
  {
   "cell_type": "markdown",
   "id": "0fccc780",
   "metadata": {},
   "source": [
    "### Model 3: Ridge Regression with Polynomial Features"
   ]
  },
  {
   "cell_type": "code",
   "execution_count": 95,
   "id": "3a50cd51",
   "metadata": {},
   "outputs": [
    {
     "data": {
      "text/plain": [
       "[<matplotlib.lines.Line2D at 0x4670b147c0>]"
      ]
     },
     "execution_count": 95,
     "metadata": {},
     "output_type": "execute_result"
    },
    {
     "data": {
      "image/png": "[encoded data removed]",
      "text/plain": [
       "<Figure size 432x288 with 1 Axes>"
      ]
     },
     "metadata": {
      "needs_background": "light"
     },
     "output_type": "display_data"
    }
   ],
   "source": [
    "pf = PolynomialFeatures(degree=3) #  Polynomial Features\n",
    "alphas = np.geomspace(0.001, 10, 50) # Alphas\n",
    "scores=[]  # List\n",
    "for alpha in alphas:\n",
    "    ridge = Ridge(alpha=alpha, max_iter=100000) # Ridge Regression\n",
    "\n",
    "    estimator = Pipeline([(\"scaler\", s),(\"polynomial_features\", pf),(\"ridge_regression\", ridge)]) # Pipeline\n",
    "\n",
    "    predictions = cross_val_predict(estimator, x, y, cv = kf) # Cross Val Predict\n",
    "    score = r2_score(y, predictions) # R2 Score\n",
    "    scores.append(score) # Append List\n",
    "\n",
    "plt.plot(alphas, scores, 'red') # Plot"
   ]
  },
  {
   "cell_type": "code",
   "execution_count": null,
   "id": "4683bdc9",
   "metadata": {},
   "outputs": [],
   "source": []
  }
 ],
 "metadata": {
  "kernelspec": {
   "display_name": "Python 3 (ipykernel)",
   "language": "python",
   "name": "python3"
  },
  "language_info": {
   "codemirror_mode": {
    "name": "ipython",
    "version": 3
   },
   "file_extension": ".py",
   "mimetype": "text/x-python",
   "name": "python",
   "nbconvert_exporter": "python",
   "pygments_lexer": "ipython3",
   "version": "3.8.10"
  }
 },
 "nbformat": 4,
 "nbformat_minor": 5
}
